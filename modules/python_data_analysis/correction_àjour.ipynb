{
 "cells": [
  {
   "cell_type": "code",
   "execution_count": null,
   "id": "0ac80fdb",
   "metadata": {},
   "outputs": [],
   "source": [
    "# Andréanne Proulx, 2021-07-26\n",
    "# PSY6983 Python for data analysis exercice"
   ]
  },
  {
   "cell_type": "code",
   "execution_count": 164,
   "id": "27cfaae6",
   "metadata": {},
   "outputs": [],
   "source": [
    "# 1. imports\n",
    "import pandas as pd\n",
    "import numpy as np\n",
    "import matplotlib.pyplot as plt\n",
    "from sklearn.datasets import load_iris\n",
    "%matplotlib inline"
   ]
  },
  {
   "cell_type": "code",
   "execution_count": 165,
   "id": "3c4870e3",
   "metadata": {},
   "outputs": [],
   "source": [
    "# 2. load data\n",
    "iris = load_iris()"
   ]
  },
  {
   "cell_type": "code",
   "execution_count": 166,
   "id": "f193e175",
   "metadata": {
    "scrolled": true
   },
   "outputs": [
    {
     "data": {
      "text/plain": [
       "dict_keys(['data', 'target', 'frame', 'target_names', 'DESCR', 'feature_names', 'filename'])"
      ]
     },
     "execution_count": 166,
     "metadata": {},
     "output_type": "execute_result"
    }
   ],
   "source": [
    "# 3. Explore the dataset using .keys()\n",
    "iris.keys()"
   ]
  },
  {
   "cell_type": "code",
   "execution_count": 167,
   "id": "c8c38d2e",
   "metadata": {},
   "outputs": [
    {
     "name": "stdout",
     "output_type": "stream",
     "text": [
      "The shape of the data is : (150, 4)\n",
      "The type of the data is : float64\n"
     ]
    }
   ],
   "source": [
    "# 4. Print the shape and type of data\n",
    "shape = iris[\"data\"].shape\n",
    "type = iris[\"data\"].dtype\n",
    "\n",
    "print(\"The shape of the data is : {}\".format(shape))\n",
    "print(\"The type of the data is : {}\".format(type))"
   ]
  },
  {
   "cell_type": "code",
   "execution_count": 168,
   "id": "1d64ca02",
   "metadata": {},
   "outputs": [],
   "source": [
    "# 5. Store 'data' and 'features_names' in variables\n",
    "data = iris[\"data\"] # same as iris.feature_names\n",
    "feature_names = iris[\"feature_names\"] # same as iris.feature_names"
   ]
  },
  {
   "cell_type": "code",
   "execution_count": 169,
   "id": "2d9550d9",
   "metadata": {},
   "outputs": [
    {
     "name": "stdout",
     "output_type": "stream",
     "text": [
      "     sepal length (cm)  sepal width (cm)  petal length (cm)  petal width (cm)\n",
      "0                  5.1               3.5                1.4               0.2\n",
      "1                  4.9               3.0                1.4               0.2\n",
      "2                  4.7               3.2                1.3               0.2\n",
      "3                  4.6               3.1                1.5               0.2\n",
      "4                  5.0               3.6                1.4               0.2\n",
      "..                 ...               ...                ...               ...\n",
      "145                6.7               3.0                5.2               2.3\n",
      "146                6.3               2.5                5.0               1.9\n",
      "147                6.5               3.0                5.2               2.0\n",
      "148                6.2               3.4                5.4               2.3\n",
      "149                5.9               3.0                5.1               1.8\n",
      "\n",
      "[150 rows x 4 columns]\n"
     ]
    }
   ],
   "source": [
    "# 6. Create a dataframe with the data and use feature_names for column names\n",
    "df = pd.DataFrame(data,columns= feature_names)\n",
    "print(df)"
   ]
  },
  {
   "cell_type": "code",
   "execution_count": 170,
   "id": "ca246903",
   "metadata": {},
   "outputs": [
    {
     "data": {
      "text/html": [
       "<div>\n",
       "<style scoped>\n",
       "    .dataframe tbody tr th:only-of-type {\n",
       "        vertical-align: middle;\n",
       "    }\n",
       "\n",
       "    .dataframe tbody tr th {\n",
       "        vertical-align: top;\n",
       "    }\n",
       "\n",
       "    .dataframe thead th {\n",
       "        text-align: right;\n",
       "    }\n",
       "</style>\n",
       "<table border=\"1\" class=\"dataframe\">\n",
       "  <thead>\n",
       "    <tr style=\"text-align: right;\">\n",
       "      <th></th>\n",
       "      <th>sepal length (cm)</th>\n",
       "      <th>sepal width (cm)</th>\n",
       "      <th>petal length (cm)</th>\n",
       "      <th>petal width (cm)</th>\n",
       "    </tr>\n",
       "  </thead>\n",
       "  <tbody>\n",
       "    <tr>\n",
       "      <th>count</th>\n",
       "      <td>150.000000</td>\n",
       "      <td>150.000000</td>\n",
       "      <td>150.000000</td>\n",
       "      <td>150.000000</td>\n",
       "    </tr>\n",
       "    <tr>\n",
       "      <th>mean</th>\n",
       "      <td>5.843333</td>\n",
       "      <td>3.057333</td>\n",
       "      <td>3.758000</td>\n",
       "      <td>1.199333</td>\n",
       "    </tr>\n",
       "    <tr>\n",
       "      <th>std</th>\n",
       "      <td>0.828066</td>\n",
       "      <td>0.435866</td>\n",
       "      <td>1.765298</td>\n",
       "      <td>0.762238</td>\n",
       "    </tr>\n",
       "    <tr>\n",
       "      <th>min</th>\n",
       "      <td>4.300000</td>\n",
       "      <td>2.000000</td>\n",
       "      <td>1.000000</td>\n",
       "      <td>0.100000</td>\n",
       "    </tr>\n",
       "    <tr>\n",
       "      <th>25%</th>\n",
       "      <td>5.100000</td>\n",
       "      <td>2.800000</td>\n",
       "      <td>1.600000</td>\n",
       "      <td>0.300000</td>\n",
       "    </tr>\n",
       "    <tr>\n",
       "      <th>50%</th>\n",
       "      <td>5.800000</td>\n",
       "      <td>3.000000</td>\n",
       "      <td>4.350000</td>\n",
       "      <td>1.300000</td>\n",
       "    </tr>\n",
       "    <tr>\n",
       "      <th>75%</th>\n",
       "      <td>6.400000</td>\n",
       "      <td>3.300000</td>\n",
       "      <td>5.100000</td>\n",
       "      <td>1.800000</td>\n",
       "    </tr>\n",
       "    <tr>\n",
       "      <th>max</th>\n",
       "      <td>7.900000</td>\n",
       "      <td>4.400000</td>\n",
       "      <td>6.900000</td>\n",
       "      <td>2.500000</td>\n",
       "    </tr>\n",
       "  </tbody>\n",
       "</table>\n",
       "</div>"
      ],
      "text/plain": [
       "       sepal length (cm)  sepal width (cm)  petal length (cm)  \\\n",
       "count         150.000000        150.000000         150.000000   \n",
       "mean            5.843333          3.057333           3.758000   \n",
       "std             0.828066          0.435866           1.765298   \n",
       "min             4.300000          2.000000           1.000000   \n",
       "25%             5.100000          2.800000           1.600000   \n",
       "50%             5.800000          3.000000           4.350000   \n",
       "75%             6.400000          3.300000           5.100000   \n",
       "max             7.900000          4.400000           6.900000   \n",
       "\n",
       "       petal width (cm)  \n",
       "count        150.000000  \n",
       "mean           1.199333  \n",
       "std            0.762238  \n",
       "min            0.100000  \n",
       "25%            0.300000  \n",
       "50%            1.300000  \n",
       "75%            1.800000  \n",
       "max            2.500000  "
      ]
     },
     "execution_count": 170,
     "metadata": {},
     "output_type": "execute_result"
    }
   ],
   "source": [
    "# 7. Get statistics for this dataframe using .describe()\n",
    "df.describe()"
   ]
  },
  {
   "cell_type": "code",
   "execution_count": 171,
   "id": "16499c48",
   "metadata": {},
   "outputs": [],
   "source": [
    "# 8. Keep only the first 50 rows only\n",
    "df_50 = df[:50][:]"
   ]
  },
  {
   "cell_type": "code",
   "execution_count": 174,
   "id": "de578594",
   "metadata": {
    "scrolled": true
   },
   "outputs": [
    {
     "name": "stdout",
     "output_type": "stream",
     "text": [
      "5.843333333333334\n",
      "0.828066127977863\n"
     ]
    }
   ],
   "source": [
    "# 9. Create an empty list to store extreme values for sepal length\n",
    "extreme_values = []\n",
    "\n",
    "# Get column \"sepal length\" \n",
    "sepal_length = df[\"sepal length (cm)\"]\n",
    "\n",
    "# get mean\n",
    "mean = sepal_length.mean()\n",
    "print(mean)\n",
    "\n",
    "# get std\n",
    "std = sepal_length.std()\n",
    "print(std)\n",
    "\n",
    "# use for loop to iterate over every row\n",
    "for length in sepal_length:\n",
    "        \n",
    "    # compute the standardized value -> formula = (value - mean)/std\n",
    "    e_t = (length - mean) / std\n",
    "    \n",
    "    # if > 3.9 standard deviation, consider extreme\n",
    "    if abs(e_t) > 3.9:\n",
    "        \n",
    "        # append extreme value\n",
    "        extreme_values.append(length)"
   ]
  },
  {
   "cell_type": "code",
   "execution_count": 175,
   "id": "4b6e3674",
   "metadata": {},
   "outputs": [
    {
     "name": "stdout",
     "output_type": "stream",
     "text": [
      "[]\n"
     ]
    }
   ],
   "source": [
    "# No extreme values are found\n",
    "print(extreme_values)"
   ]
  },
  {
   "cell_type": "code",
   "execution_count": 182,
   "id": "a3770195",
   "metadata": {},
   "outputs": [],
   "source": [
    "# 10. what about other features? This is basically repeating the previous operations, but on a different column. Try automating this by writing a function.\n",
    "\n",
    "def find_extreme_values(df, column, extreme = 3.9):\n",
    "    '''\n",
    "    Find extreme values for a given column\n",
    "    \n",
    "    Args\n",
    "    \n",
    "    \n",
    "    returns\n",
    "    \n",
    "    '''\n",
    "    \n",
    "    # initialize empty list to contain extreme values\n",
    "    extreme_values = []\n",
    "    \n",
    "    # get column\n",
    "    col = df[column].astype(float)\n",
    "    \n",
    "    # compute mean\n",
    "    mean = col.mean()\n",
    "    \n",
    "    # compute std\n",
    "    std = col.std()\n",
    "    \n",
    "    for row in col:\n",
    "        \n",
    "        # compite standard deviation\n",
    "        e_t = (row-mean)/std\n",
    "        \n",
    "        #print(e_t)\n",
    "        \n",
    "        if abs(e_t) >= extreme:\n",
    "        \n",
    "            #print(abs(e_t))\n",
    "        \n",
    "            # add to df \n",
    "            extreme_values.append(e_t)\n",
    "        \n",
    "    return extreme_values"
   ]
  },
  {
   "cell_type": "code",
   "execution_count": 183,
   "id": "9a8e8219",
   "metadata": {},
   "outputs": [
    {
     "data": {
      "text/plain": [
       "[]"
      ]
     },
     "execution_count": 183,
     "metadata": {},
     "output_type": "execute_result"
    }
   ],
   "source": [
    "find_extreme_values(df, \"sepal width (cm)\", extreme = 3.9)"
   ]
  },
  {
   "cell_type": "code",
   "execution_count": 137,
   "id": "bb514153",
   "metadata": {},
   "outputs": [
    {
     "data": {
      "text/plain": [
       "Text(0, 0.5, 'Y')"
      ]
     },
     "execution_count": 137,
     "metadata": {},
     "output_type": "execute_result"
    },
    {
     "data": {
      "image/png": "[encoded data removed]",
      "text/plain": [
       "<Figure size 432x288 with 1 Axes>"
      ]
     },
     "metadata": {
      "needs_background": "light"
     },
     "output_type": "display_data"
    }
   ],
   "source": [
    "# 11-13. boxplot distribution\n",
    "plt.boxplot(df)\n",
    "\n",
    "# add title\n",
    "plt.title(\"TITLE\")\n",
    "plt.xlabel(\"X\")\n",
    "plt.ylabel(\"Y\")\n",
    "plt.savefig(\"iris_boxplot.png\")"
   ]
  },
  {
   "cell_type": "code",
   "execution_count": null,
   "id": "84fcc886",
   "metadata": {},
   "outputs": [],
   "source": [
    "# All done. Check "
   ]
  }
 ],
 "metadata": {
  "kernelspec": {
   "display_name": "Python 3",
   "language": "python",
   "name": "python3"
  },
  "language_info": {
   "codemirror_mode": {
    "name": "ipython",
    "version": 3
   },
   "file_extension": ".py",
   "mimetype": "text/x-python",
   "name": "python",
   "nbconvert_exporter": "python",
   "pygments_lexer": "ipython3",
   "version": "3.8.5"
  }
 },
 "nbformat": 4,
 "nbformat_minor": 5
}
